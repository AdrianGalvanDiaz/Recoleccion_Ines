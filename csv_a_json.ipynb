{
 "cells": [
  {
   "cell_type": "code",
   "execution_count": 23,
   "id": "d3a3a737",
   "metadata": {},
   "outputs": [],
   "source": [
    "import csv\n",
    "import json\n",
    "import sys"
   ]
  },
  {
   "cell_type": "code",
   "execution_count": 24,
   "id": "be684d72",
   "metadata": {},
   "outputs": [],
   "source": [
    "# Puedes cambiar estas rutas según tus archivos\n",
    "csv_file_path = r\"c:\\Users\\Adrian\\Downloads\\datos_ines - Hoja 1.csv\"  # Cambia por la ruta de tu archivo CSV\n",
    "json_file_path = r\"C:\\Users\\Adrian\\Desktop\\reyi\\inesdataset_final\\data\\ground_truth_ine.jsonl\""
   ]
  },
  {
   "cell_type": "code",
   "execution_count": 25,
   "id": "90b883d8",
   "metadata": {},
   "outputs": [],
   "source": [
    "def csv_to_json_ground_truth(csv_file_path, jsonl_file_path):\n",
    "    \"\"\"\n",
    "    Convierte un archivo CSV con datos de INE a formato JSONL para ground truth.\n",
    "    \n",
    "    Args:\n",
    "        csv_file_path (str): Ruta al archivo CSV de entrada\n",
    "        jsonl_file_path (str): Ruta al archivo JSONL de salida\n",
    "    \"\"\"\n",
    "    \n",
    "    try:\n",
    "        with open(csv_file_path, 'r', encoding='utf-8') as csv_file:\n",
    "            # Leer el CSV\n",
    "            csv_reader = csv.DictReader(csv_file)\n",
    "            \n",
    "            # Abrir archivo JSON para escribir\n",
    "            with open(jsonl_file_path, 'w', encoding='utf-8') as jsonl_file:\n",
    "                \n",
    "                for row in csv_reader:\n",
    "                    # Crear la estructura gt_parse\n",
    "                    gt_parse = {\n",
    "                        \"nombre\": row.get('nombre', '').strip(),\n",
    "                        \"segundo_nombre\": row.get('segundo_nombre', '').strip(),\n",
    "                        \"apellido_paterno\": row.get('apellido_paterno', '').strip(),\n",
    "                        \"apellido_materno\": row.get('apellido_materno', '').strip(),\n",
    "                        \"direccion1\": row.get('direccion1', '').strip(),\n",
    "                        \"direccion2\": row.get('direccion2', '').strip(),\n",
    "                        \"direccion3\": row.get('direccion3', '').strip(),\n",
    "                        \"calle\": row.get('calle', '').strip(),\n",
    "                        \"numero_ext\": row.get('numero_ext', '').strip(),\n",
    "                        \"numero_int\": row.get('numero_int', '').strip(),\n",
    "                        \"colonia\": row.get('colonia', '').strip(),\n",
    "                        \"codigo_postal\": row.get('codigo_postal', '').strip(),\n",
    "                        \"municipio\": row.get('municipio', '').strip(),\n",
    "                        \"estado\": row.get('estado', '').strip()\n",
    "                    }\n",
    "                    \n",
    "                    # Crear el objeto ground_truth\n",
    "                    ground_truth_obj = {\n",
    "                        \"gt_parse\": gt_parse\n",
    "                    }\n",
    "                    \n",
    "                    # Convertir ground_truth_obj a string JSON (con espacios después de : y ,)\n",
    "                    ground_truth_str = json.dumps(ground_truth_obj, ensure_ascii=False, separators=(', ', ': '))\n",
    "                    \n",
    "                    # Crear el objeto final\n",
    "                    final_obj = {\n",
    "                        \"file_name\": row.get('file_name', '').strip(),\n",
    "                        \"ground_truth\": ground_truth_str\n",
    "                    }\n",
    "                    \n",
    "                    # Escribir cada línea como un JSON independiente (JSONL format) con espacios\n",
    "                    json_line = json.dumps(final_obj, ensure_ascii=False, separators=(', ', ': '))\n",
    "                    jsonl_file.write(json_line + '\\n')\n",
    "                \n",
    "        print(f\"✅ Conversión exitosa!\")\n",
    "        print(f\"📁 Archivo CSV: {csv_file_path}\")\n",
    "        print(f\"📄 Archivo JSONL: {json_file_path}\")\n",
    "                \n",
    "    except FileNotFoundError:\n",
    "        print(f\"❌ Error: No se encontró el archivo {csv_file_path}\")\n",
    "        sys.exit(1)\n",
    "    except Exception as e:\n",
    "        print(f\"❌ Error durante la conversión: {str(e)}\")\n",
    "        sys.exit(1)"
   ]
  },
  {
   "cell_type": "code",
   "execution_count": 26,
   "id": "7b475e30",
   "metadata": {},
   "outputs": [],
   "source": [
    "def main():\n",
    "    \"\"\"Función principal para ejecutar el conversor\"\"\"\n",
    "    \n",
    "    print(\"🔄 Iniciando conversión de CSV a JSONL...\")\n",
    "    print(f\"📥 Archivo CSV: {csv_file_path}\")\n",
    "    print(f\"📤 Archivo JSONL: {json_file_path}\")\n",
    "    print(\"-\" * 50)\n",
    "    \n",
    "    # Ejecutar la conversión\n",
    "    csv_to_json_ground_truth(csv_file_path, json_file_path)"
   ]
  },
  {
   "cell_type": "code",
   "execution_count": 27,
   "id": "4020273f",
   "metadata": {},
   "outputs": [
    {
     "name": "stdout",
     "output_type": "stream",
     "text": [
      "🔄 Iniciando conversión de CSV a JSONL...\n",
      "📥 Archivo CSV: c:\\Users\\Adrian\\Downloads\\datos_ines - Hoja 1.csv\n",
      "📤 Archivo JSONL: C:\\Users\\Adrian\\Desktop\\reyi\\inesdataset_final\\data\\ground_truth_ine.jsonl\n",
      "--------------------------------------------------\n",
      "✅ Conversión exitosa!\n",
      "📁 Archivo CSV: c:\\Users\\Adrian\\Downloads\\datos_ines - Hoja 1.csv\n",
      "📄 Archivo JSONL: C:\\Users\\Adrian\\Desktop\\reyi\\inesdataset_final\\data\\ground_truth_ine.jsonl\n"
     ]
    }
   ],
   "source": [
    "if __name__ == \"__main__\":\n",
    "    main()"
   ]
  }
 ],
 "metadata": {
  "kernelspec": {
   "display_name": "Python 3",
   "language": "python",
   "name": "python3"
  },
  "language_info": {
   "codemirror_mode": {
    "name": "ipython",
    "version": 3
   },
   "file_extension": ".py",
   "mimetype": "text/x-python",
   "name": "python",
   "nbconvert_exporter": "python",
   "pygments_lexer": "ipython3",
   "version": "3.10.0"
  }
 },
 "nbformat": 4,
 "nbformat_minor": 5
}
